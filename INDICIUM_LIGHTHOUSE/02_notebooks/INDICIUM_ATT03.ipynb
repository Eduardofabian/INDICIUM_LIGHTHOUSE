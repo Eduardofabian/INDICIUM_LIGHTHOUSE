{
  "nbformat": 4,
  "nbformat_minor": 0,
  "metadata": {
    "colab": {
      "provenance": []
    },
    "kernelspec": {
      "name": "python3",
      "display_name": "Python 3"
    },
    "language_info": {
      "name": "python"
    }
  },
  "cells": [
    {
      "cell_type": "markdown",
      "source": [
        "# --- 00_CONFIGURAÇÕES E IMPORTS"
      ],
      "metadata": {
        "id": "Wkkmtr4Jv83C"
      }
    },
    {
      "cell_type": "code",
      "source": [
        "import pandas as pd\n",
        "import numpy as np\n",
        "import matplotlib.pyplot as plt\n",
        "import seaborn as sns\n",
        "from scipy.stats import mannwhitneyu, spearmanr\n",
        "!pip install yfinance\n",
        "import yfinance as yf\n"
      ],
      "metadata": {
        "colab": {
          "base_uri": "https://localhost:8080/"
        },
        "id": "MbfzYFLXcXg2",
        "outputId": "d1b8bd85-b443-4441-c733-a73694184691"
      },
      "execution_count": 1,
      "outputs": [
        {
          "output_type": "stream",
          "name": "stdout",
          "text": [
            "Requirement already satisfied: yfinance in /usr/local/lib/python3.12/dist-packages (0.2.65)\n",
            "Requirement already satisfied: pandas>=1.3.0 in /usr/local/lib/python3.12/dist-packages (from yfinance) (2.2.2)\n",
            "Requirement already satisfied: numpy>=1.16.5 in /usr/local/lib/python3.12/dist-packages (from yfinance) (2.0.2)\n",
            "Requirement already satisfied: requests>=2.31 in /usr/local/lib/python3.12/dist-packages (from yfinance) (2.32.4)\n",
            "Requirement already satisfied: multitasking>=0.0.7 in /usr/local/lib/python3.12/dist-packages (from yfinance) (0.0.12)\n",
            "Requirement already satisfied: platformdirs>=2.0.0 in /usr/local/lib/python3.12/dist-packages (from yfinance) (4.3.8)\n",
            "Requirement already satisfied: pytz>=2022.5 in /usr/local/lib/python3.12/dist-packages (from yfinance) (2025.2)\n",
            "Requirement already satisfied: frozendict>=2.3.4 in /usr/local/lib/python3.12/dist-packages (from yfinance) (2.4.6)\n",
            "Requirement already satisfied: peewee>=3.16.2 in /usr/local/lib/python3.12/dist-packages (from yfinance) (3.18.2)\n",
            "Requirement already satisfied: beautifulsoup4>=4.11.1 in /usr/local/lib/python3.12/dist-packages (from yfinance) (4.13.5)\n",
            "Requirement already satisfied: curl_cffi>=0.7 in /usr/local/lib/python3.12/dist-packages (from yfinance) (0.13.0)\n",
            "Requirement already satisfied: protobuf>=3.19.0 in /usr/local/lib/python3.12/dist-packages (from yfinance) (5.29.5)\n",
            "Requirement already satisfied: websockets>=13.0 in /usr/local/lib/python3.12/dist-packages (from yfinance) (15.0.1)\n",
            "Requirement already satisfied: soupsieve>1.2 in /usr/local/lib/python3.12/dist-packages (from beautifulsoup4>=4.11.1->yfinance) (2.7)\n",
            "Requirement already satisfied: typing-extensions>=4.0.0 in /usr/local/lib/python3.12/dist-packages (from beautifulsoup4>=4.11.1->yfinance) (4.15.0)\n",
            "Requirement already satisfied: cffi>=1.12.0 in /usr/local/lib/python3.12/dist-packages (from curl_cffi>=0.7->yfinance) (1.17.1)\n",
            "Requirement already satisfied: certifi>=2024.2.2 in /usr/local/lib/python3.12/dist-packages (from curl_cffi>=0.7->yfinance) (2025.8.3)\n",
            "Requirement already satisfied: python-dateutil>=2.8.2 in /usr/local/lib/python3.12/dist-packages (from pandas>=1.3.0->yfinance) (2.9.0.post0)\n",
            "Requirement already satisfied: tzdata>=2022.7 in /usr/local/lib/python3.12/dist-packages (from pandas>=1.3.0->yfinance) (2025.2)\n",
            "Requirement already satisfied: charset_normalizer<4,>=2 in /usr/local/lib/python3.12/dist-packages (from requests>=2.31->yfinance) (3.4.3)\n",
            "Requirement already satisfied: idna<4,>=2.5 in /usr/local/lib/python3.12/dist-packages (from requests>=2.31->yfinance) (3.10)\n",
            "Requirement already satisfied: urllib3<3,>=1.21.1 in /usr/local/lib/python3.12/dist-packages (from requests>=2.31->yfinance) (2.5.0)\n",
            "Requirement already satisfied: pycparser in /usr/local/lib/python3.12/dist-packages (from cffi>=1.12.0->curl_cffi>=0.7->yfinance) (2.22)\n",
            "Requirement already satisfied: six>=1.5 in /usr/local/lib/python3.12/dist-packages (from python-dateutil>=2.8.2->pandas>=1.3.0->yfinance) (1.17.0)\n"
          ]
        }
      ]
    },
    {
      "cell_type": "markdown",
      "source": [
        "#01_ CARREGAMENTO DOS DADOS"
      ],
      "metadata": {
        "id": "JGsLE060wCD5"
      }
    },
    {
      "cell_type": "code",
      "source": [
        "from google.colab import drive\n",
        "drive.mount('/content/drive')\n",
        "\n",
        "caminho_base = '/content/drive/My Drive/INDICIUM_DESAFIO/01_data/'\n",
        "\n",
        "df_agencias = pd.read_csv(caminho_base + 'agencias.csv')\n",
        "df_clientes = pd.read_csv(caminho_base + 'clientes.csv')\n",
        "df_colaborador_agencia = pd.read_csv(caminho_base + 'colaborador_agencia.csv')\n",
        "df_colaboradores = pd.read_csv(caminho_base + 'colaboradores.csv')\n",
        "df_contas = pd.read_csv(caminho_base + 'contas.csv')\n",
        "df_propostas_credito = pd.read_csv(caminho_base + 'propostas_credito.csv')\n",
        "df_transacoes = pd.read_csv(caminho_base + 'transacoes.csv')\n",
        "\n"
      ],
      "metadata": {
        "colab": {
          "base_uri": "https://localhost:8080/"
        },
        "id": "_RQPGV4uYK0W",
        "outputId": "a49ad832-0a31-40e1-b7aa-475f57413fdd"
      },
      "execution_count": 2,
      "outputs": [
        {
          "output_type": "stream",
          "name": "stdout",
          "text": [
            "Mounted at /content/drive\n"
          ]
        }
      ]
    },
    {
      "cell_type": "markdown",
      "source": [
        "# 02_ETL"
      ],
      "metadata": {
        "id": "Kirvr2q9wTK7"
      }
    },
    {
      "cell_type": "code",
      "source": [
        "\n",
        "df_clientes['data_inclusao'] = pd.to_datetime(df_clientes['data_inclusao'])\n",
        "df_clientes['data_nascimento'] = pd.to_datetime(df_clientes['data_nascimento'])\n",
        "df_contas['data_abertura'] = pd.to_datetime(df_contas['data_abertura'])\n",
        "df_contas['data_ultimo_lancamento'] = pd.to_datetime(df_contas['data_ultimo_lancamento'], format='mixed', utc=True)\n",
        "df_transacoes['data_transacao'] = pd.to_datetime(df_transacoes['data_transacao'], format='mixed', utc=True)"
      ],
      "metadata": {
        "id": "g_hSJUeMwWmb"
      },
      "execution_count": 3,
      "outputs": []
    },
    {
      "cell_type": "markdown",
      "source": [
        " # 03_MODELAGEM E UNIFICAÇÃO"
      ],
      "metadata": {
        "id": "gUPGwsnDwgWa"
      }
    },
    {
      "cell_type": "code",
      "source": [
        "transacoes_com_contas = pd.merge(df_transacoes, df_contas, on='num_conta', how='left')\n",
        "transacoes_com_clientes = pd.merge(transacoes_com_contas, df_clientes, on='cod_cliente', how='left')\n",
        "df_final = pd.merge(transacoes_com_clientes, df_agencias, on='cod_agencia', how='left')\n",
        "df_final = df_final.rename(columns={\n",
        "    'data_abertura_x': 'data_abertura_conta', 'endereco_x': 'endereco_cliente', 'nome': 'nome_agencia',\n",
        "    'endereco_y': 'endereco_agencia', 'data_abertura_y': 'data_abertura_agencia'\n",
        "})\n",
        "# Criando colunas de data úteis no df_final\n",
        "df_final['year_month'] = df_final['data_transacao'].dt.strftime('%Y-%m')\n",
        "df_final['month'] = df_final['data_transacao'].dt.month"
      ],
      "metadata": {
        "id": "HvhGekrewf4x"
      },
      "execution_count": 5,
      "outputs": []
    },
    {
      "cell_type": "markdown",
      "source": [
        "#04_ANÁLISE TEMPORAL\n",
        "*texto em itálico*"
      ],
      "metadata": {
        "id": "s00TSrIpziiE"
      }
    },
    {
      "cell_type": "code",
      "source": [
        "\n",
        "#04_01_VOLUME_POR_MES\n",
        "volume_mensal = df_final.groupby('year_month').agg(\n",
        "    valor_total_mes=('valor_transacao', 'sum'),\n",
        "    mes_numero=('month', 'first')\n",
        ").reset_index()\n",
        "\n",
        "#04_02_MES_PAR_IMPAR\n",
        "volume_mensal['tipo_mes'] = np.where(volume_mensal['mes_numero'] % 2 == 0, 'Par', 'Ímpar')\n",
        "\n",
        "#04_03_MÉDIA_PAR_IMPAR\n",
        "analise_meses = volume_mensal.groupby('tipo_mes').agg(\n",
        "    media_mensal_valor=('valor_total_mes', 'mean')\n",
        ").reset_index()"
      ],
      "metadata": {
        "id": "MVaGt6QFzgE1"
      },
      "execution_count": 10,
      "outputs": []
    },
    {
      "cell_type": "markdown",
      "source": [
        "#05_ANÁLISE_DOL\n"
      ],
      "metadata": {
        "id": "efq7ACAY0udY"
      }
    },
    {
      "cell_type": "code",
      "source": [
        "#05_01_DADOS_COT_DOLAR\n",
        "start_date_yf = df_final['data_transacao'].min().strftime('%Y-%m-%d')\n",
        "end_date_yf = df_final['data_transacao'].max().strftime('%Y-%m-%d')\n",
        "dolar_data = yf.download('BRL=X', start=start_date_yf, end=end_date_yf, progress=False)\n",
        "dolar_data.columns = dolar_data.columns.get_level_values(0)\n",
        "dolar_daily = dolar_data[['Close']].reset_index().rename(columns={'Date': 'data_dia', 'Close': 'cotacao_dolar'})\n",
        "dolar_daily['data_dia'] = pd.to_datetime(dolar_daily['data_dia'])\n",
        "#05_02_PREP_DADOS\n",
        "df_final['data_dia'] = pd.to_datetime(df_final['data_transacao'].dt.date)\n",
        "transacoes_diarias = df_final.groupby('data_dia').agg(\n",
        "    numero_de_transacoes=('cod_transacao', 'count')\n",
        ").reset_index()\n",
        "#05_03_JOIN_TAB\n",
        "analise_dolar = pd.merge(transacoes_diarias, dolar_daily, on='data_dia', how='left').dropna()"
      ],
      "metadata": {
        "colab": {
          "base_uri": "https://localhost:8080/"
        },
        "id": "nt2cA-3Qz1_e",
        "outputId": "605a1e2d-e731-4ea4-c7e3-471aa974efcd"
      },
      "execution_count": 11,
      "outputs": [
        {
          "output_type": "stream",
          "name": "stderr",
          "text": [
            "/tmp/ipython-input-21373725.py:4: FutureWarning: YF.download() has changed argument auto_adjust default to True\n",
            "  dolar_data = yf.download('BRL=X', start=start_date_yf, end=end_date_yf, progress=False)\n"
          ]
        }
      ]
    },
    {
      "cell_type": "markdown",
      "source": [
        "#06_ANALISE_AGENC"
      ],
      "metadata": {
        "id": "fnBOyf1gujAO"
      }
    },
    {
      "cell_type": "code",
      "source": [
        "max_date = df_final['data_transacao'].max()\n",
        "start_6m = max_date - pd.DateOffset(months=6)\n",
        "df_6m = df_final[df_final['data_transacao'] >= start_6m]\n",
        "rank_ag = df_6m.groupby('nome_agencia').agg(\n",
        "    n_transacoes=('cod_transacao','count'),\n",
        "    valor_total=('valor_transacao','sum'),\n",
        "    ticket_medio=('valor_transacao','mean')\n",
        ").sort_values('n_transacoes', ascending=False).reset_index()\n",
        "\n",
        "print(\"Top 3 agências (últimos 6 meses):\")\n",
        "print(rank_ag.head(3))\n",
        "print(\"\\nBottom 3 agências (últimos 6 meses):\")\n",
        "print(rank_ag.tail(3))"
      ],
      "metadata": {
        "colab": {
          "base_uri": "https://localhost:8080/"
        },
        "id": "N6Oi1ZYKuiKY",
        "outputId": "5612a443-2e79-457f-85f4-03b3a7b03407"
      },
      "execution_count": 16,
      "outputs": [
        {
          "output_type": "stream",
          "name": "stdout",
          "text": [
            "Top 3 agências (últimos 6 meses):\n",
            "      nome_agencia  n_transacoes  valor_total  ticket_medio\n",
            "0  Agência Digital         16806   4647035.10    276.510478\n",
            "1   Agência Matriz          2345    261540.05    111.530938\n",
            "2  Agência Tatuapé          2246    256697.00    114.290739\n",
            "\n",
            "Bottom 3 agências (últimos 6 meses):\n",
            "            nome_agencia  n_transacoes  valor_total  ticket_medio\n",
            "7  Agência Florianópolis          1524    167771.51    110.086293\n",
            "8        Agência Jardins          1121    157626.04    140.611989\n",
            "9         Agência Recife           374    112926.01    301.941203\n"
          ]
        }
      ]
    },
    {
      "cell_type": "markdown",
      "source": [
        "#07_EXPORTAÇÃO_ARQUIVOS"
      ],
      "metadata": {
        "id": "vj8ejtfotOqf"
      }
    },
    {
      "cell_type": "code",
      "source": [
        "caminho_export = '/content/drive/My Drive/INDICIUM_DESAFIO/03_exports/'\n",
        "# Exportando a tabela principal\n",
        "df_final.to_csv(caminho_export + 'df_final_tratado_03.csv', index=False)\n",
        "\n",
        "# <<< NOVAS LINHAS DE EXPORTAÇÃO ADICIONADAS AQUI >>>\n",
        "# Exportando as novas tabelas de análise\n",
        "analise_meses.to_csv(caminho_export + 'analise_meses_pares_impares.csv', index=False)\n",
        "analise_dolar.to_csv(caminho_export + 'analise_dolar.csv', index=False)\n",
        "dim_dates.to_csv(caminho_export + 'dim_dates.csv', index=False)\n",
        "rank_ag.to_csv(caminho_export + 'rank_agencias_6m.csv', index=False)\n",
        "\n",
        "print(f\"\\nArquivos exportados com sucesso para a pasta '{caminho_export}'!\")"
      ],
      "metadata": {
        "colab": {
          "base_uri": "https://localhost:8080/",
          "height": 222
        },
        "id": "yj-yRCk90BLF",
        "outputId": "d710889a-9e0a-4879-b0d2-740db854e93d"
      },
      "execution_count": 17,
      "outputs": [
        {
          "output_type": "error",
          "ename": "NameError",
          "evalue": "name 'dim_dates' is not defined",
          "traceback": [
            "\u001b[0;31m---------------------------------------------------------------------------\u001b[0m",
            "\u001b[0;31mNameError\u001b[0m                                 Traceback (most recent call last)",
            "\u001b[0;32m/tmp/ipython-input-3100882623.py\u001b[0m in \u001b[0;36m<cell line: 0>\u001b[0;34m()\u001b[0m\n\u001b[1;32m      7\u001b[0m \u001b[0manalise_meses\u001b[0m\u001b[0;34m.\u001b[0m\u001b[0mto_csv\u001b[0m\u001b[0;34m(\u001b[0m\u001b[0mcaminho_export\u001b[0m \u001b[0;34m+\u001b[0m \u001b[0;34m'analise_meses_pares_impares.csv'\u001b[0m\u001b[0;34m,\u001b[0m \u001b[0mindex\u001b[0m\u001b[0;34m=\u001b[0m\u001b[0;32mFalse\u001b[0m\u001b[0;34m)\u001b[0m\u001b[0;34m\u001b[0m\u001b[0;34m\u001b[0m\u001b[0m\n\u001b[1;32m      8\u001b[0m \u001b[0manalise_dolar\u001b[0m\u001b[0;34m.\u001b[0m\u001b[0mto_csv\u001b[0m\u001b[0;34m(\u001b[0m\u001b[0mcaminho_export\u001b[0m \u001b[0;34m+\u001b[0m \u001b[0;34m'analise_dolar.csv'\u001b[0m\u001b[0;34m,\u001b[0m \u001b[0mindex\u001b[0m\u001b[0;34m=\u001b[0m\u001b[0;32mFalse\u001b[0m\u001b[0;34m)\u001b[0m\u001b[0;34m\u001b[0m\u001b[0;34m\u001b[0m\u001b[0m\n\u001b[0;32m----> 9\u001b[0;31m \u001b[0mdim_dates\u001b[0m\u001b[0;34m.\u001b[0m\u001b[0mto_csv\u001b[0m\u001b[0;34m(\u001b[0m\u001b[0mcaminho_export\u001b[0m \u001b[0;34m+\u001b[0m \u001b[0;34m'dim_dates.csv'\u001b[0m\u001b[0;34m,\u001b[0m \u001b[0mindex\u001b[0m\u001b[0;34m=\u001b[0m\u001b[0;32mFalse\u001b[0m\u001b[0;34m)\u001b[0m\u001b[0;34m\u001b[0m\u001b[0;34m\u001b[0m\u001b[0m\n\u001b[0m\u001b[1;32m     10\u001b[0m \u001b[0mrank_ag\u001b[0m\u001b[0;34m.\u001b[0m\u001b[0mto_csv\u001b[0m\u001b[0;34m(\u001b[0m\u001b[0mcaminho_export\u001b[0m \u001b[0;34m+\u001b[0m \u001b[0;34m'rank_agencias_6m.csv'\u001b[0m\u001b[0;34m,\u001b[0m \u001b[0mindex\u001b[0m\u001b[0;34m=\u001b[0m\u001b[0;32mFalse\u001b[0m\u001b[0;34m)\u001b[0m\u001b[0;34m\u001b[0m\u001b[0;34m\u001b[0m\u001b[0m\n\u001b[1;32m     11\u001b[0m \u001b[0;34m\u001b[0m\u001b[0m\n",
            "\u001b[0;31mNameError\u001b[0m: name 'dim_dates' is not defined"
          ]
        }
      ]
    }
  ]
}